{
 "cells": [
  {
   "cell_type": "code",
   "execution_count": 2,
   "id": "initial_id",
   "metadata": {
    "collapsed": true,
    "ExecuteTime": {
     "end_time": "2023-10-24T16:11:58.062262Z",
     "start_time": "2023-10-24T16:11:58.049012Z"
    }
   },
   "outputs": [
    {
     "name": "stdout",
     "output_type": "stream",
     "text": [
      "[[1, 'send_back_binary', '2023-10-24 18:45:50', '0:00:00.135979'], [2, 'send_back_binary', '2023-10-24 18:48:05', '0:00:00.133761'], [9, 'send_back_binary', '2023-10-24 18:48:58', '0:00:00.128607'], [16, 'send_back_binary', '2023-10-24 18:57:38', '0:00:00.131349']]\n",
      "[]\n",
      "[[11, 'black_list_check', '2023-10-24 18:49:00', '0:00:00.003154'], [12, 'black_list_check', '2023-10-24 18:49:00', '0:00:00.002178'], [13, 'black_list_check', '2023-10-24 18:49:00', '0:00:00.001951'], [14, 'bin_img', '2023-10-24 18:49:00', '0:00:02.619314'], [15, 'reverse', '2023-10-24 18:49:03', '0:00:00.741002']]\n"
     ]
    }
   ],
   "source": [
    "import xmlrpc.client\n",
    "\n",
    "server = xmlrpc.client.ServerProxy(\"http://localhost:8018\")\n",
    "\n",
    "result = server.get_logs_by_type('send_back_binary')\n",
    "print(result)\n",
    "\n",
    "result = server.get_logs_by_duration(2, 0.5)\n",
    "print(result)\n",
    "\n",
    "result = server.get_logs_by_request_time('2023-10-24 18:48:60', '2023-10-24 18:50:00')\n",
    "print(result)"
   ]
  },
  {
   "cell_type": "code",
   "execution_count": 1,
   "outputs": [],
   "source": [],
   "metadata": {
    "collapsed": false,
    "ExecuteTime": {
     "end_time": "2023-10-24T15:57:32.675646Z",
     "start_time": "2023-10-24T15:57:32.669617Z"
    }
   },
   "id": "d4d16996b7b03a79"
  },
  {
   "cell_type": "code",
   "execution_count": null,
   "outputs": [],
   "source": [],
   "metadata": {
    "collapsed": false
   },
   "id": "65b01dd910a8739"
  }
 ],
 "metadata": {
  "kernelspec": {
   "display_name": "Python 3",
   "language": "python",
   "name": "python3"
  },
  "language_info": {
   "codemirror_mode": {
    "name": "ipython",
    "version": 2
   },
   "file_extension": ".py",
   "mimetype": "text/x-python",
   "name": "python",
   "nbconvert_exporter": "python",
   "pygments_lexer": "ipython2",
   "version": "2.7.6"
  }
 },
 "nbformat": 4,
 "nbformat_minor": 5
}
