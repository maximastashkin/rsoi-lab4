{
 "cells": [
  {
   "cell_type": "code",
   "execution_count": null,
   "id": "initial_id",
   "metadata": {
    "collapsed": true,
    "is_executing": true,
    "ExecuteTime": {
     "start_time": "2023-10-24T15:57:22.778420Z"
    }
   },
   "outputs": [
    {
     "name": "stdout",
     "output_type": "stream",
     "text": [
      "Listening on port 8090...\n",
      "Log server is unavailable\n"
     ]
    },
    {
     "name": "stderr",
     "output_type": "stream",
     "text": [
      "127.0.0.1 - - [24/Oct/2023 18:57:38] \"POST /RPC2 HTTP/1.1\" 200 -\n"
     ]
    },
    {
     "name": "stdout",
     "output_type": "stream",
     "text": [
      "Log server is unavailable\n"
     ]
    },
    {
     "name": "stderr",
     "output_type": "stream",
     "text": [
      "127.0.0.1 - - [24/Oct/2023 18:57:40] \"POST /RPC2 HTTP/1.1\" 200 -\n"
     ]
    },
    {
     "name": "stdout",
     "output_type": "stream",
     "text": [
      "Log server is unavailable\n",
      "Log server is unavailable\n",
      "Log server is unavailable\n"
     ]
    },
    {
     "name": "stderr",
     "output_type": "stream",
     "text": [
      "127.0.0.1 - - [24/Oct/2023 18:57:41] \"POST /RPC2 HTTP/1.1\" 200 -\n",
      "127.0.0.1 - - [24/Oct/2023 18:57:41] \"POST /RPC2 HTTP/1.1\" 200 -\n",
      "127.0.0.1 - - [24/Oct/2023 18:57:41] \"POST /RPC2 HTTP/1.1\" 200 -\n"
     ]
    },
    {
     "name": "stdout",
     "output_type": "stream",
     "text": [
      "Log server is unavailable\n"
     ]
    },
    {
     "name": "stderr",
     "output_type": "stream",
     "text": [
      "127.0.0.1 - - [24/Oct/2023 18:57:43] \"POST /RPC2 HTTP/1.1\" 200 -\n"
     ]
    },
    {
     "name": "stdout",
     "output_type": "stream",
     "text": [
      "Log server is unavailable\n"
     ]
    },
    {
     "name": "stderr",
     "output_type": "stream",
     "text": [
      "127.0.0.1 - - [24/Oct/2023 18:57:44] \"POST /RPC2 HTTP/1.1\" 200 -\n"
     ]
    }
   ],
   "source": [
    "from xmlrpc.server import SimpleXMLRPCServer\n",
    "from xmlrpc.server import SimpleXMLRPCRequestHandler\n",
    "\n",
    "from datetime import datetime\n",
    "\n",
    "import xmlrpc.client\n",
    "\n",
    "class RequestHandler(SimpleXMLRPCRequestHandler):\n",
    "    rpc_paths = ('/RPC2',)\n",
    "    \n",
    "\n",
    "server = SimpleXMLRPCServer((\"localhost\", 8090), requestHandler=RequestHandler)\n",
    "\n",
    "master_server = xmlrpc.client.ServerProxy(\"http://localhost:8008\")\n",
    "stats_server = xmlrpc.client.ServerProxy(\"http://localhost:8018\")\n",
    "    \n",
    "def black_list_check(*args):\n",
    "    return process_request(master_server.black_list_check, 'black_list_check', args)\n",
    "server.register_function(black_list_check, 'black_list_check')\n",
    "\n",
    "def send_back_binary(*args):\n",
    "    return process_request(master_server.send_back_binary, 'send_back_binary', args)\n",
    "server.register_function(send_back_binary, 'send_back_binary')\n",
    "\n",
    "def color_inversion(*args):\n",
    "    return process_request(master_server.color_inversion, 'color_inversion', args)\n",
    "server.register_function(color_inversion, 'color_inversion')\n",
    "\n",
    "def bin_img(*args):\n",
    "    return process_request(master_server.bin_img, 'bin_img', args)\n",
    "server.register_function(bin_img, 'bin_img')\n",
    "\n",
    "def reverse(*args):\n",
    "    return process_request(master_server.reverse, 'reverse', args)\n",
    "server.register_function(reverse, 'reverse')\n",
    "\n",
    "def process_request(call, type, args):\n",
    "    start_processing_time = datetime.now()\n",
    "    result = call(*args)\n",
    "    end_processing_time = datetime.now()\n",
    "    try:\n",
    "        stats_server.add_log(type, start_processing_time.strftime(\"%Y-%m-%d %H:%M:%S\"), str(end_processing_time - start_processing_time))\n",
    "    except:\n",
    "        print(\"Log server is unavailable\")\n",
    "    return result\n",
    "\n",
    "print(\"Listening on port 8090...\")\n",
    "server.serve_forever()"
   ]
  }
 ],
 "metadata": {
  "kernelspec": {
   "display_name": "Python 3",
   "language": "python",
   "name": "python3"
  },
  "language_info": {
   "codemirror_mode": {
    "name": "ipython",
    "version": 2
   },
   "file_extension": ".py",
   "mimetype": "text/x-python",
   "name": "python",
   "nbconvert_exporter": "python",
   "pygments_lexer": "ipython2",
   "version": "2.7.6"
  }
 },
 "nbformat": 4,
 "nbformat_minor": 5
}
